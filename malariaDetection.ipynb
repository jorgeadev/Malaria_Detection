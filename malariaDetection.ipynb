{
 "cells": [
  {
   "cell_type": "code",
   "execution_count": 2,
   "metadata": {},
   "outputs": [],
   "source": [
    "# -*- coding: utf-8 -*-\n",
    "\"\"\"\n",
    "@author Jorge Alberto Gomez Gomez\n",
    "@email jorgealbertogomezgomez77@gmail.com\n",
    "\"\"\"\n",
    "\n",
    "## Malaria Detection using Transfer Learning\n",
    "\n",
    "# Download The Dataset From \n",
    "# https://www.kaggle.com/iarunava/cell-images-for-detecting-malaria\n",
    "\n",
    "# imports\n",
    "#import tensorflow\n",
    "from keras.layers import Input"
   ]
  },
  {
   "cell_type": "code",
   "execution_count": null,
   "metadata": {},
   "outputs": [],
   "source": []
  }
 ],
 "metadata": {
  "kernelspec": {
   "display_name": "Python 3",
   "language": "python",
   "name": "python3"
  },
  "language_info": {
   "codemirror_mode": {
    "name": "ipython",
    "version": 3
   },
   "file_extension": ".py",
   "mimetype": "text/x-python",
   "name": "python",
   "nbconvert_exporter": "python",
   "pygments_lexer": "ipython3",
   "version": "3.7.3"
  }
 },
 "nbformat": 4,
 "nbformat_minor": 2
}
